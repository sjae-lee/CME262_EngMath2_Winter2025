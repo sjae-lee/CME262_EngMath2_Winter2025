{
 "cells": [
  {
   "cell_type": "markdown",
   "metadata": {},
   "source": [
    "### Homework Assignment #1\n",
    "Using (i) forward (standard) Euler and (ii) backward Euler, find the approximation of $y(x_i)$, where<br>\n",
    "$y'=-20y + 20x^2 + 2x, \\quad i=0,1,...,10, \\quad y(x_0)=1$.<br>\n",
    "Use $h=0.1$ for the step size. Plot the the approximation of $y(x_i)$ alongside analytical solution.<br>\n"
   ]
  },
  {
   "cell_type": "code",
   "execution_count": null,
   "metadata": {},
   "outputs": [],
   "source": [
    "# import packages\n",
    "import numpy as np\n",
    "import matplotlib.pyplot as plt"
   ]
  },
  {
   "cell_type": "code",
   "execution_count": null,
   "metadata": {},
   "outputs": [],
   "source": [
    "# ODE of problem\n",
    "def func(x,y):\n",
    "    return -20 * y + 20 * x**2 + 2 * x"
   ]
  },
  {
   "cell_type": "markdown",
   "metadata": {},
   "source": [
    "#### Analytical Solution\n",
    "The analytical solution is $y=e^{-20x}+x^2$."
   ]
  },
  {
   "cell_type": "code",
   "execution_count": null,
   "metadata": {},
   "outputs": [],
   "source": [
    "# analytical solution\n",
    "x_anly=np.linspace(0,1,100)\n",
    "y_anly=np.exp(-20*x_anly)+x_anly**2\n",
    "\n",
    "# plotting \n",
    "plt.plot(x_anly, y_anly, linewidth=3, label='Analytical Solution')\n",
    "plt.xticks(fontsize=12)\n",
    "plt.yticks(fontsize=12)\n",
    "plt.legend(fontsize=12)"
   ]
  },
  {
   "cell_type": "markdown",
   "metadata": {},
   "source": [
    "#### Numerical Approximation - Forward Euler (6 points)\n",
    "Complete the Python function below for Forward Euler and plot the results"
   ]
  },
  {
   "cell_type": "code",
   "execution_count": null,
   "metadata": {},
   "outputs": [],
   "source": [
    "# Forward Euler\n",
    "def euler(f,x0,y0,h,N,roundoff=10):\n",
    "    ###############################################################\n",
    "    ###############################################################\n",
    "    ############# TODO: Complete this Python function #############\n",
    "    ###############################################################\n",
    "    ###############################################################\n",
    "    return np.array(x), np.array(y)\n",
    "\n",
    "x_euler_forward, y_euler_forward=euler(f=func, x0=0, y0=1, h=0.1, N=10)\n",
    "\n",
    "# plotting \n",
    "plt.plot(x_anly, y_anly, linewidth=3, label='Analytical Solution')\n",
    "plt.plot(x_euler_forward, y_euler_forward, '--o', label='Euler_forward ($h$=0.1)')\n",
    "plt.xticks(fontsize=12)\n",
    "plt.yticks(fontsize=12)\n",
    "plt.legend(fontsize=12)"
   ]
  },
  {
   "cell_type": "markdown",
   "metadata": {},
   "source": [
    "#### Numerical Approximation - Backward Euler (4 points)\n",
    "Complete the Python function below for Backward Euler and plot the results"
   ]
  },
  {
   "cell_type": "code",
   "execution_count": null,
   "metadata": {},
   "outputs": [],
   "source": [
    "# Backward Euler\n",
    "def euler_backward(f,x0,y0,h,N,roundoff=10):\n",
    "    ###############################################################\n",
    "    ###############################################################\n",
    "    ############# TODO: Complete this Python function #############\n",
    "    ###############################################################\n",
    "    ###############################################################\n",
    "    return np.array(x),np.array(y)\n",
    "\n",
    "x_euler_backward, y_euler_backward=euler_backward(f=func, x0=0, y0=1, h=0.1, N=10)\n",
    "\n",
    "# plotting\n",
    "plt.plot(x_anly, y_anly, linewidth=3, label='Analytical Solution')\n",
    "plt.plot(x_euler_forward, y_euler_forward, '--o', label='Euler_forward ($h$=0.1)')\n",
    "plt.plot(x_euler_backward, y_euler_backward, '--x', label='Euler_Backward ($h$=0.1)')\n",
    "plt.xticks(fontsize=12)\n",
    "plt.yticks(fontsize=12)\n",
    "plt.legend(fontsize=12)"
   ]
  }
 ],
 "metadata": {
  "kernelspec": {
   "display_name": "base",
   "language": "python",
   "name": "python3"
  },
  "language_info": {
   "codemirror_mode": {
    "name": "ipython",
    "version": 3
   },
   "file_extension": ".py",
   "mimetype": "text/x-python",
   "name": "python",
   "nbconvert_exporter": "python",
   "pygments_lexer": "ipython3",
   "version": "3.12.7"
  }
 },
 "nbformat": 4,
 "nbformat_minor": 2
}
