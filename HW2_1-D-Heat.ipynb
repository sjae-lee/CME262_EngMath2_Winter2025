{
 "cells": [
  {
   "cell_type": "markdown",
   "metadata": {},
   "source": [
    "### Homework Assignment #2 - 1-D Heat Conduction FDM\n",
    "Consider a laterally insulated metal bar of length 1. The temperature of the bar is modeled with the one-dimensional heat equation \n",
    "$$\n",
    "\\frac{\\partial 𝑢}{\\partial 𝑡}=\\frac{\\partial^2 𝑢}{\\partial 𝑥^2}.\n",
    "$$\n",
    "The initial temperature is \n",
    "$$\n",
    "u(x,0)=\\sin(𝜋𝑥),\n",
    "$$\n",
    "and the ends are kept at 0 &deg;C."
   ]
  },
  {
   "cell_type": "markdown",
   "metadata": {},
   "source": [
    "#### Task 1. Explicit FDM\n",
    "\n",
    "Using explicit FDM, find the approximation of the temperature in the bar, $u(x,t)$, for $0 \\le t \\le 0.2$.\n",
    "\n",
    "Use $h=0.2$ for the step size for $x$ and $k=0.01$ for the step size for $t$.\n",
    "\n",
    "Plot the the approximation of $u(x,t)$."
   ]
  },
  {
   "cell_type": "code",
   "execution_count": null,
   "metadata": {},
   "outputs": [],
   "source": [
    "import numpy as np\n",
    "import matplotlib.pyplot as plt"
   ]
  },
  {
   "cell_type": "code",
   "execution_count": null,
   "metadata": {},
   "outputs": [],
   "source": [
    "def fdm_heat_explicit(x_0=0, x_L=1, t_0=0, t_final=1, h=0.2, k=0.01):\n",
    "    \"\"\"\n",
    "    x_0, x_L: two ends of metal rod (x_0 < x_L)\n",
    "    h: step size for x\n",
    "    t_0, t_final: initial and final time of simulation (t_0 < t_final)\n",
    "    k: step size for t\n",
    "    \"\"\"\n",
    "    N_x = int((x_L-x_0)/h)+1 # number of grid points along x\n",
    "    N_t = int((t_final-t_0)/k)+1 # number of grid points along t\n",
    "\n",
    "    # create grid points\n",
    "    x = np.linspace(x_0, x_L, N_x) \n",
    "    t = np.linspace(t_0, t_final, N_t)\n",
    "    u = np.empty((N_t, N_x))\n",
    "\n",
    "    # boundary conditions\n",
    "    u[:,0] = ############# TODO: Complete this line #############\n",
    "    u[:,-1] = ############# TODO: Complete this line #############\n",
    "\n",
    "    # initial condition\n",
    "    u[0,:] = ############# TODO: Complete this line #############\n",
    "    \n",
    "    # simulation\n",
    "    for i, t_i in enumerate(t):\n",
    "        if i==0: pass # t_0\n",
    "        else: ############# TODO: Complete this line #############\n",
    "    return x, t, u"
   ]
  },
  {
   "cell_type": "code",
   "execution_count": null,
   "metadata": {},
   "outputs": [],
   "source": [
    "x, t, u = fdm_heat_explicit(############# TODO: Complete these arguments #############)\n",
    "\n",
    "# plot result\n",
    "x_plot = np.hstack((x,np.array((-1,2))))\n",
    "for i, t_i in enumerate(t):\n",
    "    c = u[i,:]\n",
    "    c_plot = np.hstack((c,np.array((0,1))))\n",
    "    plt.scatter(x_plot,np.ones_like(x_plot)*t_i,c=c_plot,cmap='jet',s=100)\n",
    "plt.xlim(-0.1,1.1)\n",
    "plt.xlabel('$x$')\n",
    "plt.ylabel('$t$')\n",
    "plt.colorbar()"
   ]
  },
  {
   "cell_type": "markdown",
   "metadata": {},
   "source": [
    "#### Task 2. Explicit FDM with a small $h$\n",
    "Using explicit FDM, find the approximation of the temperature in the bar, $u(x,t)$, for $0 \\le t \\le 0.2$.\n",
    "\n",
    "This time, use $h=0.05$ for the step size for $x$.\n",
    "\n",
    "If you use $k=0.01$ for the step size for $t$, you will encounter a numerical instability. Adjust $k$ to get a reasonable result.\n",
    "\n",
    "Plot the the approximation of $u(x,t)$.\n",
    "\n",
    "Optional (no extra point):<br>\n",
    "Try $h=0.01$. You will find that you need to use a very small $k$ to get resonable result. Also, You will see that the computational time and cost increase drastically. You may not be able to run this case due to a lack of memory."
   ]
  },
  {
   "cell_type": "code",
   "execution_count": null,
   "metadata": {},
   "outputs": [],
   "source": [
    "x, t, u = fdm_heat_explicit(############# TODO: Complete these arguments #############)\n",
    "\n",
    "# plot result\n",
    "x_plot = np.hstack((x,np.array((-1,2))))\n",
    "for i, t_i in enumerate(t):\n",
    "    c = u[i,:]\n",
    "    c_plot = np.hstack((c,np.array((0,1))))\n",
    "    plt.scatter(x_plot,np.ones_like(x_plot)*t_i,c=c_plot,cmap='jet',s=100)\n",
    "plt.xlim(-0.1,1.1)\n",
    "plt.xlabel('$x$')\n",
    "plt.ylabel('$t$')\n",
    "plt.colorbar()"
   ]
  },
  {
   "cell_type": "markdown",
   "metadata": {},
   "source": [
    "#### Task 3. Crank-Nicolson Method\n",
    "Using Crank-Nicolson method, find the approximation of the temperature in the bar, $u(x,t)$, for $0 \\le t \\le 0.2$.\n",
    "\n",
    "Use $h=0.05$ for the step size for $x$ and $k=0.01$ for the step size for $t$.\n",
    "\n",
    "Plot the the approximation of $u(x,t)$."
   ]
  },
  {
   "cell_type": "code",
   "execution_count": null,
   "metadata": {},
   "outputs": [],
   "source": [
    "def fdm_heat_CK(x_0=0, x_L=1, t_0=0, t_final=1, h=0.2, k=0.01):\n",
    "    \"\"\"\n",
    "    x_0, x_L: two ends of metal rod (x_0 < x_L)\n",
    "    h: step size for x\n",
    "    t_0, t_final: initial and final time of simulation (t_0 < t_final)\n",
    "    k: step size for t\n",
    "    \"\"\"\n",
    "    N_x = int((x_L-x_0)/h)+1 # number of grid points along x\n",
    "    N_t = int((t_final-t_0)/k)+1 # number of grid points along t\n",
    "\n",
    "    # create grid points\n",
    "    x = np.linspace(x_0, x_L, N_x) \n",
    "    t = np.linspace(t_0, t_final, N_t)\n",
    "    u = np.empty((N_t, N_x))\n",
    "\n",
    "    # boundary conditions\n",
    "    u[:,0] = ############# TODO: Complete this line #############\n",
    "    u[:,-1] = ############# TODO: Complete this line #############\n",
    "\n",
    "    # initial condition\n",
    "    u[0,:] = ############# TODO: Complete this line #############\n",
    "    \n",
    "    # simulation\n",
    "    for i, t_i in enumerate(t):\n",
    "        if i==0: pass # t_0\n",
    "        else:\n",
    "            ############# TODO: Implement Crank-Nicolson Method here #############\n",
    "    return x, t, u"
   ]
  },
  {
   "cell_type": "code",
   "execution_count": null,
   "metadata": {},
   "outputs": [],
   "source": [
    "x, t, u = fdm_heat_CK(############# TODO: Complete these arguments #############)\n",
    "\n",
    "# plot result\n",
    "x_plot = np.hstack((x,np.array((-1,2))))\n",
    "for i, t_i in enumerate(t):\n",
    "    c = u[i,:]\n",
    "    c_plot = np.hstack((c,np.array((0,1))))\n",
    "    plt.scatter(x_plot,np.ones_like(x_plot)*t_i,c=c_plot,cmap='jet',s=100)\n",
    "plt.xlim(-0.1,1.1)\n",
    "plt.xlabel('$x$')\n",
    "plt.ylabel('$t$')\n",
    "plt.colorbar()"
   ]
  }
 ],
 "metadata": {
  "kernelspec": {
   "display_name": "base",
   "language": "python",
   "name": "python3"
  },
  "language_info": {
   "codemirror_mode": {
    "name": "ipython",
    "version": 3
   },
   "file_extension": ".py",
   "mimetype": "text/x-python",
   "name": "python",
   "nbconvert_exporter": "python",
   "pygments_lexer": "ipython3",
   "version": "3.12.7"
  }
 },
 "nbformat": 4,
 "nbformat_minor": 2
}
